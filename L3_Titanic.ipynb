{
  "nbformat": 4,
  "nbformat_minor": 0,
  "metadata": {
    "colab": {
      "name": "L3-Titanic.ipynb",
      "provenance": [],
      "collapsed_sections": []
    },
    "kernelspec": {
      "name": "python3",
      "display_name": "Python 3"
    },
    "widgets": {
      "application/vnd.jupyter.widget-state+json": {
        "e4f11d73b6454b9da096035bd60eb7ee": {
          "model_module": "@jupyter-widgets/controls",
          "model_name": "HBoxModel",
          "state": {
            "_view_name": "HBoxView",
            "_dom_classes": [],
            "_model_name": "HBoxModel",
            "_view_module": "@jupyter-widgets/controls",
            "_model_module_version": "1.5.0",
            "_view_count": null,
            "_view_module_version": "1.5.0",
            "box_style": "",
            "layout": "IPY_MODEL_b8b465034ef0480da1c476263b977311",
            "_model_module": "@jupyter-widgets/controls",
            "children": [
              "IPY_MODEL_70b760a4e37541c3925c561a0e4e8326",
              "IPY_MODEL_2f4f86b84ce04f5a9d66ec87b5c4ea4c"
            ]
          }
        },
        "b8b465034ef0480da1c476263b977311": {
          "model_module": "@jupyter-widgets/base",
          "model_name": "LayoutModel",
          "state": {
            "_view_name": "LayoutView",
            "grid_template_rows": null,
            "right": null,
            "justify_content": null,
            "_view_module": "@jupyter-widgets/base",
            "overflow": null,
            "_model_module_version": "1.2.0",
            "_view_count": null,
            "flex_flow": null,
            "width": null,
            "min_width": null,
            "border": null,
            "align_items": null,
            "bottom": null,
            "_model_module": "@jupyter-widgets/base",
            "top": null,
            "grid_column": null,
            "overflow_y": null,
            "overflow_x": null,
            "grid_auto_flow": null,
            "grid_area": null,
            "grid_template_columns": null,
            "flex": null,
            "_model_name": "LayoutModel",
            "justify_items": null,
            "grid_row": null,
            "max_height": null,
            "align_content": null,
            "visibility": null,
            "align_self": null,
            "height": null,
            "min_height": null,
            "padding": null,
            "grid_auto_rows": null,
            "grid_gap": null,
            "max_width": null,
            "order": null,
            "_view_module_version": "1.2.0",
            "grid_template_areas": null,
            "object_position": null,
            "object_fit": null,
            "grid_auto_columns": null,
            "margin": null,
            "display": null,
            "left": null
          }
        },
        "70b760a4e37541c3925c561a0e4e8326": {
          "model_module": "@jupyter-widgets/controls",
          "model_name": "IntProgressModel",
          "state": {
            "_view_name": "ProgressView",
            "style": "IPY_MODEL_a08ddf31d1734944a94854beb2ade3c6",
            "_dom_classes": [],
            "description": "Optimization Progress: 100%",
            "_model_name": "IntProgressModel",
            "bar_style": "",
            "max": 120,
            "_view_module": "@jupyter-widgets/controls",
            "_model_module_version": "1.5.0",
            "value": 120,
            "_view_count": null,
            "_view_module_version": "1.5.0",
            "orientation": "horizontal",
            "min": 0,
            "description_tooltip": null,
            "_model_module": "@jupyter-widgets/controls",
            "layout": "IPY_MODEL_9fededc2dc98421fa1d7022cbb26b408"
          }
        },
        "2f4f86b84ce04f5a9d66ec87b5c4ea4c": {
          "model_module": "@jupyter-widgets/controls",
          "model_name": "HTMLModel",
          "state": {
            "_view_name": "HTMLView",
            "style": "IPY_MODEL_347f97ac79724fbd94fe081a9993d426",
            "_dom_classes": [],
            "description": "",
            "_model_name": "HTMLModel",
            "placeholder": "​",
            "_view_module": "@jupyter-widgets/controls",
            "_model_module_version": "1.5.0",
            "value": " 120/120 [01:22&lt;00:00,  1.28pipeline/s]",
            "_view_count": null,
            "_view_module_version": "1.5.0",
            "description_tooltip": null,
            "_model_module": "@jupyter-widgets/controls",
            "layout": "IPY_MODEL_9c107545287844b1b3818989352147ca"
          }
        },
        "a08ddf31d1734944a94854beb2ade3c6": {
          "model_module": "@jupyter-widgets/controls",
          "model_name": "ProgressStyleModel",
          "state": {
            "_view_name": "StyleView",
            "_model_name": "ProgressStyleModel",
            "description_width": "initial",
            "_view_module": "@jupyter-widgets/base",
            "_model_module_version": "1.5.0",
            "_view_count": null,
            "_view_module_version": "1.2.0",
            "bar_color": null,
            "_model_module": "@jupyter-widgets/controls"
          }
        },
        "9fededc2dc98421fa1d7022cbb26b408": {
          "model_module": "@jupyter-widgets/base",
          "model_name": "LayoutModel",
          "state": {
            "_view_name": "LayoutView",
            "grid_template_rows": null,
            "right": null,
            "justify_content": null,
            "_view_module": "@jupyter-widgets/base",
            "overflow": null,
            "_model_module_version": "1.2.0",
            "_view_count": null,
            "flex_flow": null,
            "width": null,
            "min_width": null,
            "border": null,
            "align_items": null,
            "bottom": null,
            "_model_module": "@jupyter-widgets/base",
            "top": null,
            "grid_column": null,
            "overflow_y": null,
            "overflow_x": null,
            "grid_auto_flow": null,
            "grid_area": null,
            "grid_template_columns": null,
            "flex": null,
            "_model_name": "LayoutModel",
            "justify_items": null,
            "grid_row": null,
            "max_height": null,
            "align_content": null,
            "visibility": null,
            "align_self": null,
            "height": null,
            "min_height": null,
            "padding": null,
            "grid_auto_rows": null,
            "grid_gap": null,
            "max_width": null,
            "order": null,
            "_view_module_version": "1.2.0",
            "grid_template_areas": null,
            "object_position": null,
            "object_fit": null,
            "grid_auto_columns": null,
            "margin": null,
            "display": null,
            "left": null
          }
        },
        "347f97ac79724fbd94fe081a9993d426": {
          "model_module": "@jupyter-widgets/controls",
          "model_name": "DescriptionStyleModel",
          "state": {
            "_view_name": "StyleView",
            "_model_name": "DescriptionStyleModel",
            "description_width": "",
            "_view_module": "@jupyter-widgets/base",
            "_model_module_version": "1.5.0",
            "_view_count": null,
            "_view_module_version": "1.2.0",
            "_model_module": "@jupyter-widgets/controls"
          }
        },
        "9c107545287844b1b3818989352147ca": {
          "model_module": "@jupyter-widgets/base",
          "model_name": "LayoutModel",
          "state": {
            "_view_name": "LayoutView",
            "grid_template_rows": null,
            "right": null,
            "justify_content": null,
            "_view_module": "@jupyter-widgets/base",
            "overflow": null,
            "_model_module_version": "1.2.0",
            "_view_count": null,
            "flex_flow": null,
            "width": null,
            "min_width": null,
            "border": null,
            "align_items": null,
            "bottom": null,
            "_model_module": "@jupyter-widgets/base",
            "top": null,
            "grid_column": null,
            "overflow_y": null,
            "overflow_x": null,
            "grid_auto_flow": null,
            "grid_area": null,
            "grid_template_columns": null,
            "flex": null,
            "_model_name": "LayoutModel",
            "justify_items": null,
            "grid_row": null,
            "max_height": null,
            "align_content": null,
            "visibility": null,
            "align_self": null,
            "height": null,
            "min_height": null,
            "padding": null,
            "grid_auto_rows": null,
            "grid_gap": null,
            "max_width": null,
            "order": null,
            "_view_module_version": "1.2.0",
            "grid_template_areas": null,
            "object_position": null,
            "object_fit": null,
            "grid_auto_columns": null,
            "margin": null,
            "display": null,
            "left": null
          }
        }
      }
    }
  },
  "cells": [
    {
      "cell_type": "code",
      "metadata": {
        "id": "N_zmfiNOAqnT",
        "colab_type": "code",
        "outputId": "9819491f-a2ad-40b8-feb7-7cedfd188203",
        "colab": {
          "base_uri": "https://localhost:8080/",
          "height": 1000
        }
      },
      "source": [
        "## Step1 查看数据\n",
        "\n",
        "import numpy as np\n",
        "import pandas as pd\n",
        "from sklearn.tree import DecisionTreeClassifier\n",
        "from sklearn.feature_extraction import DictVectorizer\n",
        "from sklearn.model_selection import cross_val_score\n",
        "from sklearn import metrics\n",
        "from sklearn.linear_model.logistic import LogisticRegression\n",
        "\n",
        "# 数据加载\n",
        "train_data = pd.read_csv('/content/drive/My Drive/Colab Notebooks/datasets/titanic_train.txt')\n",
        "test_data = pd.read_csv('/content/drive/My Drive/Colab Notebooks/datasets/titanic_test.txt')\n",
        "\n",
        "# 数据探索\n",
        "# 查看train_data信息\n",
        "pd.set_option('display.max_columns', None) #显示所有列\n",
        "print('查看数据信息：列名、非空个数、类型等')\n",
        "print(train_data.info())\n",
        "print('-'*30)\n",
        "print('查看数据摘要')\n",
        "print(train_data.describe())\n",
        "print('-'*30)\n",
        "print('查看离散数据分布')\n",
        "print(train_data.describe(include=['O']))\n",
        "print('-'*30)\n",
        "print('查看前5条数据')\n",
        "print(train_data.head())\n",
        "print('-'*30)\n",
        "print('查看后5条数据')\n",
        "print(train_data.tail())\n",
        "\n"
      ],
      "execution_count": 4,
      "outputs": [
        {
          "output_type": "stream",
          "text": [
            "/usr/local/lib/python3.6/dist-packages/sklearn/utils/deprecation.py:144: FutureWarning: The sklearn.linear_model.logistic module is  deprecated in version 0.22 and will be removed in version 0.24. The corresponding classes / functions should instead be imported from sklearn.linear_model. Anything that cannot be imported from sklearn.linear_model is now part of the private API.\n",
            "  warnings.warn(message, FutureWarning)\n"
          ],
          "name": "stderr"
        },
        {
          "output_type": "stream",
          "text": [
            "查看数据信息：列名、非空个数、类型等\n",
            "<class 'pandas.core.frame.DataFrame'>\n",
            "RangeIndex: 891 entries, 0 to 890\n",
            "Data columns (total 12 columns):\n",
            "PassengerId    891 non-null int64\n",
            "Survived       891 non-null int64\n",
            "Pclass         891 non-null int64\n",
            "Name           891 non-null object\n",
            "Sex            891 non-null object\n",
            "Age            714 non-null float64\n",
            "SibSp          891 non-null int64\n",
            "Parch          891 non-null int64\n",
            "Ticket         891 non-null object\n",
            "Fare           891 non-null float64\n",
            "Cabin          204 non-null object\n",
            "Embarked       889 non-null object\n",
            "dtypes: float64(2), int64(5), object(5)\n",
            "memory usage: 83.7+ KB\n",
            "None\n",
            "------------------------------\n",
            "查看数据摘要\n",
            "       PassengerId    Survived      Pclass         Age       SibSp  \\\n",
            "count   891.000000  891.000000  891.000000  714.000000  891.000000   \n",
            "mean    446.000000    0.383838    2.308642   29.699118    0.523008   \n",
            "std     257.353842    0.486592    0.836071   14.526497    1.102743   \n",
            "min       1.000000    0.000000    1.000000    0.420000    0.000000   \n",
            "25%     223.500000    0.000000    2.000000   20.125000    0.000000   \n",
            "50%     446.000000    0.000000    3.000000   28.000000    0.000000   \n",
            "75%     668.500000    1.000000    3.000000   38.000000    1.000000   \n",
            "max     891.000000    1.000000    3.000000   80.000000    8.000000   \n",
            "\n",
            "            Parch        Fare  \n",
            "count  891.000000  891.000000  \n",
            "mean     0.381594   32.204208  \n",
            "std      0.806057   49.693429  \n",
            "min      0.000000    0.000000  \n",
            "25%      0.000000    7.910400  \n",
            "50%      0.000000   14.454200  \n",
            "75%      0.000000   31.000000  \n",
            "max      6.000000  512.329200  \n",
            "------------------------------\n",
            "查看离散数据分布\n",
            "                             Name   Sex Ticket Cabin Embarked\n",
            "count                         891   891    891   204      889\n",
            "unique                        891     2    681   147        3\n",
            "top     Van der hoef, Mr. Wyckoff  male   1601    G6        S\n",
            "freq                            1   577      7     4      644\n",
            "------------------------------\n",
            "查看前5条数据\n",
            "   PassengerId  Survived  Pclass  \\\n",
            "0            1         0       3   \n",
            "1            2         1       1   \n",
            "2            3         1       3   \n",
            "3            4         1       1   \n",
            "4            5         0       3   \n",
            "\n",
            "                                                Name     Sex   Age  SibSp  \\\n",
            "0                            Braund, Mr. Owen Harris    male  22.0      1   \n",
            "1  Cumings, Mrs. John Bradley (Florence Briggs Th...  female  38.0      1   \n",
            "2                             Heikkinen, Miss. Laina  female  26.0      0   \n",
            "3       Futrelle, Mrs. Jacques Heath (Lily May Peel)  female  35.0      1   \n",
            "4                           Allen, Mr. William Henry    male  35.0      0   \n",
            "\n",
            "   Parch            Ticket     Fare Cabin Embarked  \n",
            "0      0         A/5 21171   7.2500   NaN        S  \n",
            "1      0          PC 17599  71.2833   C85        C  \n",
            "2      0  STON/O2. 3101282   7.9250   NaN        S  \n",
            "3      0            113803  53.1000  C123        S  \n",
            "4      0            373450   8.0500   NaN        S  \n",
            "------------------------------\n",
            "查看后5条数据\n",
            "     PassengerId  Survived  Pclass                                      Name  \\\n",
            "886          887         0       2                     Montvila, Rev. Juozas   \n",
            "887          888         1       1              Graham, Miss. Margaret Edith   \n",
            "888          889         0       3  Johnston, Miss. Catherine Helen \"Carrie\"   \n",
            "889          890         1       1                     Behr, Mr. Karl Howell   \n",
            "890          891         0       3                       Dooley, Mr. Patrick   \n",
            "\n",
            "        Sex   Age  SibSp  Parch      Ticket   Fare Cabin Embarked  \n",
            "886    male  27.0      0      0      211536  13.00   NaN        S  \n",
            "887  female  19.0      0      0      112053  30.00   B42        S  \n",
            "888  female   NaN      1      2  W./C. 6607  23.45   NaN        S  \n",
            "889    male  26.0      0      0      111369  30.00  C148        C  \n",
            "890    male  32.0      0      0      370376   7.75   NaN        Q  \n"
          ],
          "name": "stdout"
        }
      ]
    },
    {
      "cell_type": "code",
      "metadata": {
        "id": "vCJKfVHHIP1O",
        "colab_type": "code",
        "outputId": "7684ed21-772f-48d5-e884-c004e9d60855",
        "colab": {
          "base_uri": "https://localhost:8080/",
          "height": 323
        }
      },
      "source": [
        "#Step 2 数据清洗\n",
        "\n",
        "# print(train_data.isna().sum()) #-> To fill Age and Embarked\n",
        "# 使用平均年龄来填充年龄中的nan值\n",
        "train_data['Age'].fillna(train_data['Age'].mean(), inplace=True)\n",
        "test_data['Age'].fillna(test_data['Age'].mean(),inplace=True)\n",
        "# 使用票价的均值填充票价中的nan值\n",
        "# train_data['Fare'].fillna(train_data['Fare'].mean(), inplace=True)\n",
        "test_data['Fare'].fillna(test_data['Fare'].mean(),inplace=True)\n",
        "\n",
        "# print(train_data['Embarked'].value_counts())\n",
        "# 使用登录最多的港口来填充登录港口的nan值\n",
        "train_data['Embarked'].fillna('S', inplace=True)\n",
        "test_data['Embarked'].fillna('S',inplace=True)\n",
        "\n",
        "# 特征选择 Drop Passenger Id and Cabin\n",
        "features = ['Pclass', 'Sex', 'Age', 'SibSp', 'Parch', 'Fare', 'Embarked'] \n",
        "train_features = train_data[features]\n",
        "train_labels = train_data['Survived']\n",
        "test_features = test_data[features]\n",
        "\n",
        "train_features['Pclass'] = train_features['Pclass'].astype('object')\n",
        "# print('特征值')\n",
        "print(train_features.info())\n"
      ],
      "execution_count": 5,
      "outputs": [
        {
          "output_type": "stream",
          "text": [
            "<class 'pandas.core.frame.DataFrame'>\n",
            "RangeIndex: 891 entries, 0 to 890\n",
            "Data columns (total 7 columns):\n",
            "Pclass      891 non-null object\n",
            "Sex         891 non-null object\n",
            "Age         891 non-null float64\n",
            "SibSp       891 non-null int64\n",
            "Parch       891 non-null int64\n",
            "Fare        891 non-null float64\n",
            "Embarked    891 non-null object\n",
            "dtypes: float64(2), int64(2), object(3)\n",
            "memory usage: 48.9+ KB\n",
            "None\n"
          ],
          "name": "stdout"
        },
        {
          "output_type": "stream",
          "text": [
            "/usr/local/lib/python3.6/dist-packages/ipykernel_launcher.py:18: SettingWithCopyWarning: \n",
            "A value is trying to be set on a copy of a slice from a DataFrame.\n",
            "Try using .loc[row_indexer,col_indexer] = value instead\n",
            "\n",
            "See the caveats in the documentation: http://pandas.pydata.org/pandas-docs/stable/user_guide/indexing.html#returning-a-view-versus-a-copy\n"
          ],
          "name": "stderr"
        }
      ]
    },
    {
      "cell_type": "code",
      "metadata": {
        "id": "MZKtIdBHstjB",
        "colab_type": "code",
        "colab": {}
      },
      "source": [
        ""
      ],
      "execution_count": 0,
      "outputs": []
    },
    {
      "cell_type": "code",
      "metadata": {
        "id": "aHqEidA1cgJN",
        "colab_type": "code",
        "outputId": "05e8de4a-c6a9-421f-f9e4-81a6f0b215c1",
        "colab": {
          "base_uri": "https://localhost:8080/",
          "height": 238
        }
      },
      "source": [
        "#Step 3 训练模型\n",
        "pd.set_option('display.max_columns', None)\n",
        "\n",
        "# ##Alternative to DictVectorizer\n",
        "!pip install dummyPy\n",
        "from dummyPy import OneHotEncoder\n",
        "OH=OneHotEncoder(categorical_columns=[\"Pclass\", \"Sex\", \"Embarked\"])\n",
        "OH.fit(pd.concat([train_data,test_data],sort=True))\n",
        "train_features=OH.transform(train_features)\n",
        "test_features=OH.transform(test_features)\n",
        "print(train_features.columns.values)\n",
        "\n",
        "# #Transform categorical values of train / test set\n",
        "# dvec=DictVectorizer(sparse=False)\n",
        "# train_features=dvec.fit_transform(train_features.to_dict(orient='record'))\n",
        "# test_features=dvec.transform(test_features.to_dict(orient='record'))\n",
        "# print(dvec.feature_names_)\n",
        "\n",
        "# 构造Model\n",
        "# clf = DecisionTreeClassifier(criterion='entropy')\n",
        "clf = LogisticRegression(max_iter=1000, verbose=False, random_state=33, tol=1e-4)\n",
        "# 训练\n",
        "clf.fit(train_features, train_labels)\n",
        "# 预测\n",
        "pred_labels = clf.predict(test_features)\n",
        "\n",
        "# 得到准确率\n",
        "acc_decision_tree = round(clf.score(train_features, train_labels), 6)\n",
        "print(u'score准确率为 %.4lf' % acc_decision_tree)\n",
        "\n",
        "# 使用K折交叉验证 统计准确率\n",
        "print(u'cross_val_score准确率为 %.4lf' % np.mean(cross_val_score(clf, train_features, train_labels, cv=10)))\n"
      ],
      "execution_count": 6,
      "outputs": [
        {
          "output_type": "stream",
          "text": [
            "Collecting dummyPy\n",
            "  Downloading https://files.pythonhosted.org/packages/fa/3a/354f5b89587ba059b747551966471715fd1f4c84aea22dce837f458af642/dummyPy-v0.3.zip\n",
            "Building wheels for collected packages: dummyPy\n",
            "  Building wheel for dummyPy (setup.py) ... \u001b[?25l\u001b[?25hdone\n",
            "  Created wheel for dummyPy: filename=dummyPy-0.3-cp36-none-any.whl size=3581 sha256=68499bbed7b833e4d5757d6112425706f1057b5848778f5e803dede8d8655799\n",
            "  Stored in directory: /root/.cache/pip/wheels/a0/7f/e6/26c6a4532944c2dca7130ae56263adc0b002a5de9e9ae6fb4b\n",
            "Successfully built dummyPy\n",
            "Installing collected packages: dummyPy\n",
            "Successfully installed dummyPy-0.3\n",
            "['Pclass_1' 'Pclass_2' 'Pclass_3' 'Sex_female' 'Sex_male' 'Age' 'SibSp'\n",
            " 'Parch' 'Fare' 'Embarked_C' 'Embarked_Q' 'Embarked_S']\n",
            "score准确率为 0.8047\n",
            "cross_val_score准确率为 0.8002\n"
          ],
          "name": "stdout"
        }
      ]
    },
    {
      "cell_type": "code",
      "metadata": {
        "id": "fKiggBEdtIeT",
        "colab_type": "code",
        "outputId": "fc4f9ad6-55c7-4576-e6b8-bc2ed5dfc131",
        "colab": {
          "base_uri": "https://localhost:8080/",
          "height": 346
        }
      },
      "source": [
        "# Step 4 查看重要特征\n",
        "\n",
        "def show_feature_importance(feature_list, feature_importance):\n",
        "\t# 设定阈值\n",
        "\tfi_threshold = 20\n",
        "\t# 重要特征的下标\n",
        "\timportant_idx = np.where(feature_importance != fi_threshold)[0]\n",
        "  \n",
        "\t# 特征名称\n",
        "\timportant_features = [feature_list[i] for i in important_idx]\n",
        "  \n",
        "\t# 重要特征\n",
        "\tsorted_idx = np.argsort(feature_importance[important_idx])[::-1]\n",
        "\t# 可视化\n",
        "\tpos = np.arange(sorted_idx.shape[0]) + 0.5\n",
        "\tplt.subplot(1, 2, 2)\n",
        "\tplt.title('Feature Importance')\n",
        "\tplt.barh(pos, feature_importance[important_idx][sorted_idx[::-1]], color='r',align='center')\n",
        "\tplt.yticks(pos, [important_features[i] for i in sorted_idx[::-1]])\n",
        "\tplt.xlabel('Relative Importance')\n",
        "\tplt.draw()\n",
        "\tplt.show()\n",
        " \n",
        " # 获取特征重要性\n",
        "# feature_importance = clf.feature_importances_[0]\n",
        "feature_importance = clf.coef_[0]\n",
        "feature_importance = 100.0 * (feature_importance / feature_importance.max())\n",
        "print(feature_importance)\n",
        "\n",
        "# 重要特征可视化\n",
        "import matplotlib.pyplot as plt\n",
        "# show_feature_importance(dvec.feature_names_, feature_importance)\n",
        "show_feature_importance(train_features.columns.values, feature_importance)"
      ],
      "execution_count": 7,
      "outputs": [
        {
          "output_type": "stream",
          "text": [
            "[ 73.3440561    8.07220257 -81.06456694 100.         -99.64830827\n",
            "  -2.85552667 -23.87036426  -7.11870517   0.20183428  12.15867817\n",
            "   8.69028444 -20.49727088]\n"
          ],
          "name": "stdout"
        },
        {
          "output_type": "display_data",
          "data": {
            "image/png": "[encoded data removed]",
            "text/plain": [
              "<Figure size 432x288 with 1 Axes>"
            ]
          },
          "metadata": {
            "tags": []
          }
        }
      ]
    },
    {
      "cell_type": "code",
      "metadata": {
        "id": "NwNjFVmQkyyg",
        "colab_type": "code",
        "outputId": "97ab5705-f7da-41a7-a3d0-cf3789db6358",
        "colab": {
          "base_uri": "https://localhost:8080/",
          "height": 459,
          "referenced_widgets": [
            "e4f11d73b6454b9da096035bd60eb7ee",
            "b8b465034ef0480da1c476263b977311",
            "70b760a4e37541c3925c561a0e4e8326",
            "2f4f86b84ce04f5a9d66ec87b5c4ea4c",
            "a08ddf31d1734944a94854beb2ade3c6",
            "9fededc2dc98421fa1d7022cbb26b408",
            "347f97ac79724fbd94fe081a9993d426",
            "9c107545287844b1b3818989352147ca"
          ]
        }
      },
      "source": [
        "\n",
        "# Step 5 使用TPOT自动机器学习工具\n",
        "!pip install tpot\n",
        "from tpot import TPOTClassifier\n",
        "from sklearn.model_selection import train_test_split\n",
        "X_train, X_test, y_train, y_test = train_test_split(train_features, train_labels, train_size=0.75, test_size=0.25)\n",
        "\n",
        "# 训练\n",
        "tpot = TPOTClassifier(generations=5, population_size=20, verbosity=2)\n",
        "tpot.fit(X_train, y_train)\n",
        "print(tpot.score(X_test, y_test))\n",
        "tpot.export('tpot_titanic_pipeline.py')\n"
      ],
      "execution_count": 8,
      "outputs": [
        {
          "output_type": "stream",
          "text": [
            "Requirement already satisfied: tpot in /usr/local/lib/python3.6/dist-packages (0.11.1)\n",
            "Requirement already satisfied: deap>=1.2 in /usr/local/lib/python3.6/dist-packages (from tpot) (1.3.1)\n",
            "Requirement already satisfied: scikit-learn>=0.22.0 in /usr/local/lib/python3.6/dist-packages (from tpot) (0.22.2.post1)\n",
            "Requirement already satisfied: stopit>=1.1.1 in /usr/local/lib/python3.6/dist-packages (from tpot) (1.1.2)\n",
            "Requirement already satisfied: numpy>=1.16.3 in /usr/local/lib/python3.6/dist-packages (from tpot) (1.18.2)\n",
            "Requirement already satisfied: pandas>=0.24.2 in /usr/local/lib/python3.6/dist-packages (from tpot) (0.25.3)\n",
            "Requirement already satisfied: joblib>=0.13.2 in /usr/local/lib/python3.6/dist-packages (from tpot) (0.14.1)\n",
            "Requirement already satisfied: update-checker>=0.16 in /usr/local/lib/python3.6/dist-packages (from tpot) (0.16)\n",
            "Requirement already satisfied: tqdm>=4.36.1 in /usr/local/lib/python3.6/dist-packages (from tpot) (4.38.0)\n",
            "Requirement already satisfied: scipy>=1.3.1 in /usr/local/lib/python3.6/dist-packages (from tpot) (1.4.1)\n",
            "Requirement already satisfied: pytz>=2017.2 in /usr/local/lib/python3.6/dist-packages (from pandas>=0.24.2->tpot) (2018.9)\n",
            "Requirement already satisfied: python-dateutil>=2.6.1 in /usr/local/lib/python3.6/dist-packages (from pandas>=0.24.2->tpot) (2.8.1)\n",
            "Requirement already satisfied: requests>=2.3.0 in /usr/local/lib/python3.6/dist-packages (from update-checker>=0.16->tpot) (2.21.0)\n",
            "Requirement already satisfied: six>=1.5 in /usr/local/lib/python3.6/dist-packages (from python-dateutil>=2.6.1->pandas>=0.24.2->tpot) (1.12.0)\n",
            "Requirement already satisfied: idna<2.9,>=2.5 in /usr/local/lib/python3.6/dist-packages (from requests>=2.3.0->update-checker>=0.16->tpot) (2.8)\n",
            "Requirement already satisfied: certifi>=2017.4.17 in /usr/local/lib/python3.6/dist-packages (from requests>=2.3.0->update-checker>=0.16->tpot) (2019.11.28)\n",
            "Requirement already satisfied: chardet<3.1.0,>=3.0.2 in /usr/local/lib/python3.6/dist-packages (from requests>=2.3.0->update-checker>=0.16->tpot) (3.0.4)\n",
            "Requirement already satisfied: urllib3<1.25,>=1.21.1 in /usr/local/lib/python3.6/dist-packages (from requests>=2.3.0->update-checker>=0.16->tpot) (1.24.3)\n"
          ],
          "name": "stdout"
        },
        {
          "output_type": "display_data",
          "data": {
            "application/vnd.jupyter.widget-view+json": {
              "model_id": "e4f11d73b6454b9da096035bd60eb7ee",
              "version_minor": 0,
              "version_major": 2
            },
            "text/plain": [
              "HBox(children=(IntProgress(value=0, description='Optimization Progress', max=120, style=ProgressStyle(descript…"
            ]
          },
          "metadata": {
            "tags": []
          }
        },
        {
          "output_type": "stream",
          "text": [
            "Generation 1 - Current best internal CV score: 0.8069240264841208\n",
            "Generation 2 - Current best internal CV score: 0.8129053978229155\n",
            "Generation 3 - Current best internal CV score: 0.8129053978229155\n",
            "Generation 4 - Current best internal CV score: 0.8129053978229155\n",
            "Generation 5 - Current best internal CV score: 0.8129166199079789\n",
            "\n",
            "Best pipeline: RandomForestClassifier(input_matrix, bootstrap=True, criterion=entropy, max_features=1.0, min_samples_leaf=1, min_samples_split=5, n_estimators=100)\n",
            "0.8340807174887892\n"
          ],
          "name": "stdout"
        }
      ]
    }
  ]
}